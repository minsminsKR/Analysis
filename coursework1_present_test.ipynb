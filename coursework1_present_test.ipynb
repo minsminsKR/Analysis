{
  "nbformat": 4,
  "nbformat_minor": 0,
  "metadata": {
    "colab": {
      "provenance": [],
      "authorship_tag": "ABX9TyNcQke3TM+1VKCgVDsns9YY",
      "include_colab_link": true
    },
    "kernelspec": {
      "name": "python3",
      "display_name": "Python 3"
    },
    "language_info": {
      "name": "python"
    }
  },
  "cells": [
    {
      "cell_type": "markdown",
      "metadata": {
        "id": "view-in-github",
        "colab_type": "text"
      },
      "source": [
        "<a href=\"https://colab.research.google.com/github/minsminsKR/Analysis/blob/main/coursework1_present_test.ipynb\" target=\"_parent\"><img src=\"https://colab.research.google.com/assets/colab-badge.svg\" alt=\"Open In Colab\"/></a>"
      ]
    },
    {
      "cell_type": "code",
      "metadata": {
        "id": "j5f5Ign3-CkG"
      },
      "source": [
        "# CMT309 Coursework 1\n",
        "# student number:\n",
        "# int → float → bool → string → complex\n",
        "# x=2, cycle_convert(x, 1) returns a float\n",
        "# x=\"10\" cycle_convert(x, 1) returns the complex number 10+0j\n",
        "\n",
        "def cycle_convert(x, n):\n",
        "    # ... YOUR CODE HERE ...\n",
        "    types_list = [int, float, bool, str, complex]\n",
        "    type_index = types_list.index(type(x))\n",
        "    to_type = types_list[(type_index + n) % len(types_list)]  # 히트\n",
        "    print(\"기존 타입 :\",x, type(x))\n",
        "    print(\"바꿀 타입 :\",to_type,\"\\n\")\n",
        "    x = to_type(x)\n",
        "\n",
        "    return print(\"결과 :\"), x, print(type(x))\n",
        "\n",
        "# ... YOUR CODE HERE ..."
      ],
      "execution_count": null,
      "outputs": []
    },
    {
      "cell_type": "code",
      "metadata": {
        "colab": {
          "base_uri": "https://localhost:8080/"
        },
        "id": "CNtbuQUaIMUd",
        "outputId": "08ba480b-0866-40f7-d168-ee523fe4eda1"
      },
      "source": [
        "# x=2, cycle_convert(x, 1) returns a float\n",
        "print(cycle_convert(2,1))"
      ],
      "execution_count": null,
      "outputs": [
        {
          "output_type": "stream",
          "text": [
            "기존 타입 : 2 <class 'int'>\n",
            "바꿀 타입 : <class 'float'> \n",
            "\n",
            "결과 :\n",
            "<class 'float'>\n",
            "(None, 2.0, None)\n"
          ],
          "name": "stdout"
        }
      ]
    },
    {
      "cell_type": "code",
      "metadata": {
        "colab": {
          "base_uri": "https://localhost:8080/"
        },
        "id": "sT_2H87uMXwR",
        "outputId": "85f39276-5d52-46b5-9159-24fb08bb018e"
      },
      "source": [
        "# x=\"10\" cycle_convert(x, 1) returns the complex number 10+0j\n",
        "print(cycle_convert(\"10\",1))"
      ],
      "execution_count": null,
      "outputs": [
        {
          "output_type": "stream",
          "text": [
            "기존 타입 : 10 <class 'str'>\n",
            "바꿀 타입 : <class 'complex'> \n",
            "\n",
            "결과 :\n",
            "<class 'complex'>\n",
            "(None, (10+0j), None)\n"
          ],
          "name": "stdout"
        }
      ]
    },
    {
      "cell_type": "code",
      "metadata": {
        "id": "WD6g1EmMDsBh"
      },
      "source": [
        "def cycle_convert2(x, n):\n",
        "    # ... YOUR CODE HERE ...\n",
        "    \n",
        "    return print(\"결과 :\"), x, print(type(x))\n"
      ],
      "execution_count": null,
      "outputs": []
    },
    {
      "cell_type": "code",
      "metadata": {
        "id": "7343rRRvvz_8"
      },
      "source": [
        "def cycle_convert2(x, n):\n",
        "    # ... YOUR CODE HERE ...\n",
        "    types_list = [int, float, bool, str, complex]\n",
        "    x_index = types_list.index(type(x))\n",
        "    to_type = types_list[(x_index+n) % len(types_list)]\n",
        "    x = to_type(x)\n",
        "\n",
        "    return print(\"결과 :\"), x, print(type(x))\n"
      ],
      "execution_count": null,
      "outputs": []
    },
    {
      "cell_type": "code",
      "metadata": {
        "colab": {
          "base_uri": "https://localhost:8080/"
        },
        "id": "rsNOQ3ZQwWUf",
        "outputId": "bab01854-2b85-485f-b65c-ca646add6ee7"
      },
      "source": [
        "# x=\"10\" cycle_convert2(x, 1) returns the complex number 10+0j\n",
        "print(cycle_convert2(\"10\",1))"
      ],
      "execution_count": null,
      "outputs": [
        {
          "output_type": "stream",
          "text": [
            "결과 :\n",
            "<class 'complex'>\n",
            "(None, (10+0j), None)\n"
          ],
          "name": "stdout"
        }
      ]
    },
    {
      "cell_type": "code",
      "metadata": {
        "id": "-Xlv-h_qwZEc"
      },
      "source": [],
      "execution_count": null,
      "outputs": []
    }
  ]
}