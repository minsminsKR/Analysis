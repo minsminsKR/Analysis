{
  "nbformat": 4,
  "nbformat_minor": 0,
  "metadata": {
    "colab": {
      "provenance": [],
      "authorship_tag": "ABX9TyNPLyPv1hFhkbtkSt7wF3om",
      "include_colab_link": true
    },
    "kernelspec": {
      "name": "python3",
      "display_name": "Python 3"
    },
    "language_info": {
      "name": "python"
    },
    "accelerator": "GPU",
    "gpuClass": "standard"
  },
  "cells": [
    {
      "cell_type": "markdown",
      "metadata": {
        "id": "view-in-github",
        "colab_type": "text"
      },
      "source": [
        "<a href=\"https://colab.research.google.com/github/minsminsKR/Messege_Analysis/blob/main/23_Messege_Analysis.ipynb\" target=\"_parent\"><img src=\"https://colab.research.google.com/assets/colab-badge.svg\" alt=\"Open In Colab\"/></a>"
      ]
    },
    {
      "cell_type": "markdown",
      "source": [
        "# Data Analysis"
      ],
      "metadata": {
        "id": "EYu_cEoPCCkR"
      }
    },
    {
      "cell_type": "code",
      "source": [
        "# Sometimes print a part of dataframe for privacy\n",
        "\n",
        "import pandas as pd\n",
        "import numpy as np\n",
        "from google.colab import drive\n",
        "drive.mount('/content/drive/')\n",
        "path = '/content/drive/My Drive/git/'\n",
        "\n",
        "import re\n",
        "import matplotlib.pyplot as plt\n",
        "\n",
        "names = []\n",
        "times = []\n",
        "texts = []\n",
        "\n",
        "with open(path+'kakao_jyw.txt', 'r') as f:\n",
        "    for line in f:\n",
        "        # Use a regular expression to extract the name, time, and text\n",
        "        match = re.search(r'\\[(.*?)\\] \\[(.*?)\\] (.*)', line)\n",
        "        if match:\n",
        "            names.append(match.group(1))\n",
        "            times.append(match.group(2))\n",
        "            texts.append(match.group(3))\n",
        "\n",
        "# Create a DataFrame from the extracted data\n",
        "df = pd.DataFrame({'Name': names, 'Time': times, 'Text': texts})\n",
        "df['Name'] = df['Name'].replace({'정영화': 'YoungWha', '강민수': 'Minsoo'})\n",
        "\n",
        "# Delete 'phto' and 'emoji'\n",
        "'''\n",
        "for i,x in enumerate(df['Text']):\n",
        "    if x == '사진' or x == '이모티콘':\n",
        "        df = df.drop(index=i)\n",
        "'''\n",
        "\n",
        "df[1000:1010]"
      ],
      "metadata": {
        "colab": {
          "base_uri": "https://localhost:8080/",
          "height": 381
        },
        "id": "mNy2C3uCa4b1",
        "outputId": "0af59717-77d0-48be-86e2-1211de7f0a8b"
      },
      "execution_count": null,
      "outputs": [
        {
          "output_type": "stream",
          "name": "stdout",
          "text": [
            "Mounted at /content/drive/\n"
          ]
        },
        {
          "output_type": "execute_result",
          "data": {
            "text/plain": [
              "          Name     Time             Text\n",
              "1000  YoungWha  오후 9:10          내할말 완ㄹ료\n",
              "1001  YoungWha  오후 9:10          30분 지났노\n",
              "1002  YoungWha  오후 9:10            식은땀나네\n",
              "1003  YoungWha  오후 9:10             이모티콘\n",
              "1004    Minsoo  오후 9:14     ㅋㅋ 30분이면 뭐..\n",
              "1005  YoungWha  오후 9:29            1시간은?\n",
              "1006  YoungWha  오후 9:29                ㅋ\n",
              "1007  YoungWha  오후 9:29            ㅋㅋㅋㅋㅋ\n",
              "1008  YoungWha  오후 9:29         설마 잠들었나?\n",
              "1009    Minsoo  오후 9:33  뭐 딱 잠들때지? 1시간이면"
            ],
            "text/html": [
              "\n",
              "  <div id=\"df-10208577-bed1-4c08-bcf0-1a5a4191c9bf\">\n",
              "    <div class=\"colab-df-container\">\n",
              "      <div>\n",
              "<style scoped>\n",
              "    .dataframe tbody tr th:only-of-type {\n",
              "        vertical-align: middle;\n",
              "    }\n",
              "\n",
              "    .dataframe tbody tr th {\n",
              "        vertical-align: top;\n",
              "    }\n",
              "\n",
              "    .dataframe thead th {\n",
              "        text-align: right;\n",
              "    }\n",
              "</style>\n",
              "<table border=\"1\" class=\"dataframe\">\n",
              "  <thead>\n",
              "    <tr style=\"text-align: right;\">\n",
              "      <th></th>\n",
              "      <th>Name</th>\n",
              "      <th>Time</th>\n",
              "      <th>Text</th>\n",
              "    </tr>\n",
              "  </thead>\n",
              "  <tbody>\n",
              "    <tr>\n",
              "      <th>1000</th>\n",
              "      <td>YoungWha</td>\n",
              "      <td>오후 9:10</td>\n",
              "      <td>내할말 완ㄹ료</td>\n",
              "    </tr>\n",
              "    <tr>\n",
              "      <th>1001</th>\n",
              "      <td>YoungWha</td>\n",
              "      <td>오후 9:10</td>\n",
              "      <td>30분 지났노</td>\n",
              "    </tr>\n",
              "    <tr>\n",
              "      <th>1002</th>\n",
              "      <td>YoungWha</td>\n",
              "      <td>오후 9:10</td>\n",
              "      <td>식은땀나네</td>\n",
              "    </tr>\n",
              "    <tr>\n",
              "      <th>1003</th>\n",
              "      <td>YoungWha</td>\n",
              "      <td>오후 9:10</td>\n",
              "      <td>이모티콘</td>\n",
              "    </tr>\n",
              "    <tr>\n",
              "      <th>1004</th>\n",
              "      <td>Minsoo</td>\n",
              "      <td>오후 9:14</td>\n",
              "      <td>ㅋㅋ 30분이면 뭐..</td>\n",
              "    </tr>\n",
              "    <tr>\n",
              "      <th>1005</th>\n",
              "      <td>YoungWha</td>\n",
              "      <td>오후 9:29</td>\n",
              "      <td>1시간은?</td>\n",
              "    </tr>\n",
              "    <tr>\n",
              "      <th>1006</th>\n",
              "      <td>YoungWha</td>\n",
              "      <td>오후 9:29</td>\n",
              "      <td>ㅋ</td>\n",
              "    </tr>\n",
              "    <tr>\n",
              "      <th>1007</th>\n",
              "      <td>YoungWha</td>\n",
              "      <td>오후 9:29</td>\n",
              "      <td>ㅋㅋㅋㅋㅋ</td>\n",
              "    </tr>\n",
              "    <tr>\n",
              "      <th>1008</th>\n",
              "      <td>YoungWha</td>\n",
              "      <td>오후 9:29</td>\n",
              "      <td>설마 잠들었나?</td>\n",
              "    </tr>\n",
              "    <tr>\n",
              "      <th>1009</th>\n",
              "      <td>Minsoo</td>\n",
              "      <td>오후 9:33</td>\n",
              "      <td>뭐 딱 잠들때지? 1시간이면</td>\n",
              "    </tr>\n",
              "  </tbody>\n",
              "</table>\n",
              "</div>\n",
              "      <button class=\"colab-df-convert\" onclick=\"convertToInteractive('df-10208577-bed1-4c08-bcf0-1a5a4191c9bf')\"\n",
              "              title=\"Convert this dataframe to an interactive table.\"\n",
              "              style=\"display:none;\">\n",
              "        \n",
              "  <svg xmlns=\"http://www.w3.org/2000/svg\" height=\"24px\"viewBox=\"0 0 24 24\"\n",
              "       width=\"24px\">\n",
              "    <path d=\"M0 0h24v24H0V0z\" fill=\"none\"/>\n",
              "    <path d=\"M18.56 5.44l.94 2.06.94-2.06 2.06-.94-2.06-.94-.94-2.06-.94 2.06-2.06.94zm-11 1L8.5 8.5l.94-2.06 2.06-.94-2.06-.94L8.5 2.5l-.94 2.06-2.06.94zm10 10l.94 2.06.94-2.06 2.06-.94-2.06-.94-.94-2.06-.94 2.06-2.06.94z\"/><path d=\"M17.41 7.96l-1.37-1.37c-.4-.4-.92-.59-1.43-.59-.52 0-1.04.2-1.43.59L10.3 9.45l-7.72 7.72c-.78.78-.78 2.05 0 2.83L4 21.41c.39.39.9.59 1.41.59.51 0 1.02-.2 1.41-.59l7.78-7.78 2.81-2.81c.8-.78.8-2.07 0-2.86zM5.41 20L4 18.59l7.72-7.72 1.47 1.35L5.41 20z\"/>\n",
              "  </svg>\n",
              "      </button>\n",
              "      \n",
              "  <style>\n",
              "    .colab-df-container {\n",
              "      display:flex;\n",
              "      flex-wrap:wrap;\n",
              "      gap: 12px;\n",
              "    }\n",
              "\n",
              "    .colab-df-convert {\n",
              "      background-color: #E8F0FE;\n",
              "      border: none;\n",
              "      border-radius: 50%;\n",
              "      cursor: pointer;\n",
              "      display: none;\n",
              "      fill: #1967D2;\n",
              "      height: 32px;\n",
              "      padding: 0 0 0 0;\n",
              "      width: 32px;\n",
              "    }\n",
              "\n",
              "    .colab-df-convert:hover {\n",
              "      background-color: #E2EBFA;\n",
              "      box-shadow: 0px 1px 2px rgba(60, 64, 67, 0.3), 0px 1px 3px 1px rgba(60, 64, 67, 0.15);\n",
              "      fill: #174EA6;\n",
              "    }\n",
              "\n",
              "    [theme=dark] .colab-df-convert {\n",
              "      background-color: #3B4455;\n",
              "      fill: #D2E3FC;\n",
              "    }\n",
              "\n",
              "    [theme=dark] .colab-df-convert:hover {\n",
              "      background-color: #434B5C;\n",
              "      box-shadow: 0px 1px 3px 1px rgba(0, 0, 0, 0.15);\n",
              "      filter: drop-shadow(0px 1px 2px rgba(0, 0, 0, 0.3));\n",
              "      fill: #FFFFFF;\n",
              "    }\n",
              "  </style>\n",
              "\n",
              "      <script>\n",
              "        const buttonEl =\n",
              "          document.querySelector('#df-10208577-bed1-4c08-bcf0-1a5a4191c9bf button.colab-df-convert');\n",
              "        buttonEl.style.display =\n",
              "          google.colab.kernel.accessAllowed ? 'block' : 'none';\n",
              "\n",
              "        async function convertToInteractive(key) {\n",
              "          const element = document.querySelector('#df-10208577-bed1-4c08-bcf0-1a5a4191c9bf');\n",
              "          const dataTable =\n",
              "            await google.colab.kernel.invokeFunction('convertToInteractive',\n",
              "                                                     [key], {});\n",
              "          if (!dataTable) return;\n",
              "\n",
              "          const docLinkHtml = 'Like what you see? Visit the ' +\n",
              "            '<a target=\"_blank\" href=https://colab.research.google.com/notebooks/data_table.ipynb>data table notebook</a>'\n",
              "            + ' to learn more about interactive tables.';\n",
              "          element.innerHTML = '';\n",
              "          dataTable['output_type'] = 'display_data';\n",
              "          await google.colab.output.renderOutput(dataTable, element);\n",
              "          const docLink = document.createElement('div');\n",
              "          docLink.innerHTML = docLinkHtml;\n",
              "          element.appendChild(docLink);\n",
              "        }\n",
              "      </script>\n",
              "    </div>\n",
              "  </div>\n",
              "  "
            ]
          },
          "metadata": {},
          "execution_count": 1
        }
      ]
    },
    {
      "cell_type": "code",
      "source": [
        "# Clean!\n",
        "pd.isna(df).sum()"
      ],
      "metadata": {
        "colab": {
          "base_uri": "https://localhost:8080/"
        },
        "id": "H5SgW9JWrPsu",
        "outputId": "1165edbd-ea29-4d7e-a955-b941d6949764"
      },
      "execution_count": null,
      "outputs": [
        {
          "output_type": "execute_result",
          "data": {
            "text/plain": [
              "Name    0\n",
              "Time    0\n",
              "Text    0\n",
              "dtype: int64"
            ]
          },
          "metadata": {},
          "execution_count": 2
        }
      ]
    },
    {
      "cell_type": "code",
      "source": [
        "# Bar plot total number of messages by each one\n",
        "\n",
        "# Get the counts of messages by each person\n",
        "counts = df['Name'].value_counts()\n",
        "\n",
        "# Create a bar plot of the message counts\n",
        "plt.bar(counts.index, counts.values)\n",
        "\n",
        "# Add labels and title\n",
        "plt.xlabel('Name')\n",
        "plt.ylabel('Number of messages')\n",
        "plt.title('Number of messages by person')\n",
        "\n",
        "# Show the plot\n",
        "plt.show()"
      ],
      "metadata": {
        "colab": {
          "base_uri": "https://localhost:8080/",
          "height": 295
        },
        "id": "UTB6DBberQmP",
        "outputId": "5f07b0e3-6674-4e57-e113-80532e5fbd18"
      },
      "execution_count": null,
      "outputs": [
        {
          "output_type": "display_data",
          "data": {
            "text/plain": [
              "<Figure size 432x288 with 1 Axes>"
            ],
            "image/png": "[encoded data removed]"
          },
          "metadata": {
            "needs_background": "light"
          }
        }
      ]
    },
    {
      "cell_type": "code",
      "source": [
        "# Pie chart percentage of messages by each one\n",
        "\n",
        "# Calculate the total number of messages and the percentages for each person\n",
        "total_messages = counts.sum()\n",
        "percentages = counts / total_messages * 100\n",
        "\n",
        "# Make a pie chart\n",
        "plt.pie(percentages, labels=percentages.index, autopct='%1.1f%%')\n",
        "\n",
        "plt.title('Percentage of messages by person')\n",
        "\n",
        "# Add legend\n",
        "plt.legend(title='Percentage', loc='upper left', bbox_to_anchor=(1, 0, 0.5, 1))\n",
        "plt.show()"
      ],
      "metadata": {
        "colab": {
          "base_uri": "https://localhost:8080/",
          "height": 264
        },
        "id": "qh20uaherQsj",
        "outputId": "64bd00dc-7a3e-4aa6-a272-fc04ce72edd7"
      },
      "execution_count": null,
      "outputs": [
        {
          "output_type": "display_data",
          "data": {
            "text/plain": [
              "<Figure size 432x288 with 1 Axes>"
            ],
            "image/png": "[encoded data removed]"
          },
          "metadata": {}
        }
      ]
    },
    {
      "cell_type": "code",
      "source": [
        "# The amount of text by each one\n",
        "\n",
        "########## Am ############\n",
        "# Extract the hour from the Time column and store it in a new column\n",
        "df['Hour'] = df['Time'].apply(lambda x: int(x.split()[-1].split(':')[0]))\n",
        "\n",
        "# Extract the period ('오전' or '오후') from the Time column and store it in a new column\n",
        "df['Period'] = df['Time'].apply(lambda x: x.split()[0])\n",
        "\n",
        "# Get the counts of messages by hour for each person\n",
        "counts_minsoo_am = df[(df['Period']=='오전') & (df['Name']=='Minsoo')]['Hour'].value_counts()\n",
        "counts_youngwha_am = df[(df['Period']=='오전') & (df['Name']=='YoungWha')]['Hour'].value_counts()\n",
        "\n",
        "# Create an empty dictionary that will store the hours\n",
        "hours = {}\n",
        "\n",
        "# Add the hours from the counts of Minsoo\n",
        "for hour in counts_minsoo_am.index:\n",
        "    hours[hour] = None\n",
        "\n",
        "# Add the hours from the counts of YoungWha\n",
        "for hour in counts_youngwha_am.index:\n",
        "    hours[hour] = None\n",
        "\n",
        "# Get the x-coordinates and y-coordinates for the each person bar plot\n",
        "x_minsoo = list(hours.keys())\n",
        "y_minsoo = [counts_minsoo_am.get(hour, 0) for hour in x_minsoo]\n",
        "x_youngwha = list(hours.keys())\n",
        "y_youngwha = [counts_youngwha_am.get(hour, 0) for hour in x_youngwha]\n",
        "\n",
        "# Create a bar plot of the message counts for each hour\n",
        "plt.figure(figsize=(10, 6))\n",
        "\n",
        "# Set the bottom parameter to the values of the previous bar to stack the bars\n",
        "plt.bar(x_youngwha, y_youngwha, bottom=y_minsoo, label='YoungWha')\n",
        "plt.bar(x_minsoo, y_minsoo, label='Minsoo')\n",
        "\n",
        "plt.xlabel('Hour', fontsize=14)\n",
        "plt.ylabel('Number of messages', fontsize=14)\n",
        "plt.title('Number of messages by am hour', fontsize=16)\n",
        "\n",
        "plt.legend()\n",
        "plt.show()\n",
        "\n",
        "########## Pm ############\n",
        "\n",
        "# Get the counts of messages by hour for each person\n",
        "counts_minsoo_pm = df[(df['Period']=='오후') & (df['Name']=='Minsoo')]['Hour'].value_counts()\n",
        "counts_youngwha_pm = df[(df['Period']=='오후') & (df['Name']=='YoungWha')]['Hour'].value_counts()\n",
        "\n",
        "# Create an empty dictionary that will store the hours\n",
        "hours = {}\n",
        "\n",
        "# Add the hours from the counts of Minsoo\n",
        "for hour in counts_minsoo_pm.index:\n",
        "    hours[hour] = None\n",
        "\n",
        "# Add the hours from the counts of YoungWha\n",
        "for hour in counts_youngwha_pm.index:\n",
        "    hours[hour] = None\n",
        "\n",
        "# Get the x-coordinates and y-coordinates for the each person bar plot\n",
        "x_minsoo = list(hours.keys())\n",
        "y_minsoo = [counts_minsoo_pm.get(hour, 0) for hour in x_minsoo]\n",
        "x_youngwha = list(hours.keys())\n",
        "y_youngwha = [counts_youngwha_pm.get(hour, 0) for hour in x_youngwha]\n",
        "\n",
        "# Create a bar plot of the message counts for each hour\n",
        "plt.figure(figsize=(10, 6))\n",
        "\n",
        "# Set the bottom parameter to the values of the previous bar to stack the bars\n",
        "plt.bar(x_youngwha, y_youngwha, bottom=y_minsoo, label='YoungWha')\n",
        "plt.bar(x_minsoo, y_minsoo, label='Minsoo')\n",
        "\n",
        "\n",
        "plt.xlabel('Hour', fontsize=14)\n",
        "plt.ylabel('Number of messages', fontsize=14)\n",
        "plt.title('Number of messages by pm hour', fontsize=16)\n",
        "\n",
        "plt.legend()\n",
        "plt.show()"
      ],
      "metadata": {
        "colab": {
          "base_uri": "https://localhost:8080/",
          "height": 803
        },
        "id": "3Q6SgxfZiJ3V",
        "outputId": "ac125909-84c2-4621-b51c-db5214d6abb7"
      },
      "execution_count": null,
      "outputs": [
        {
          "output_type": "display_data",
          "data": {
            "text/plain": [
              "<Figure size 720x432 with 1 Axes>"
            ],
            "image/png": "[encoded data removed]"
          },
          "metadata": {
            "needs_background": "light"
          }
        },
        {
          "output_type": "display_data",
          "data": {
            "text/plain": [
              "<Figure size 720x432 with 1 Axes>"
            ],
            "image/png": "[encoded data removed]"
          },
          "metadata": {
            "needs_background": "light"
          }
        }
      ]
    },
    {
      "cell_type": "code",
      "execution_count": null,
      "metadata": {
        "colab": {
          "base_uri": "https://localhost:8080/",
          "height": 803
        },
        "id": "VucGUReTawY1",
        "outputId": "e64d5669-0346-4fe7-e903-4a433e38ac63"
      },
      "outputs": [
        {
          "output_type": "display_data",
          "data": {
            "text/plain": [
              "<Figure size 720x432 with 1 Axes>"
            ],
            "image/png": "[encoded data removed]"
          },
          "metadata": {
            "needs_background": "light"
          }
        },
        {
          "output_type": "display_data",
          "data": {
            "text/plain": [
              "<Figure size 720x432 with 1 Axes>"
            ],
            "image/png": "[encoded data removed]"
          },
          "metadata": {
            "needs_background": "light"
          }
        }
      ],
      "source": [
        "# Bar plot total number of messages by hour\n",
        "\n",
        "########## Am ############\n",
        "# Get the counts of messages by hour\n",
        "counts = df[df['Period'] == '오전']['Hour'].value_counts()\n",
        "\n",
        "# Sort the counts by values in descending order\n",
        "counts = counts.sort_values(ascending=False)\n",
        "plt.figure(figsize=(10, 6))\n",
        "\n",
        "# Get the top 3 hours\n",
        "top_3_hours = counts.index[:3]\n",
        "\n",
        "# Create a bar plot of the message counts for the hours from 12:00 to 00:00\n",
        "plt.bar(counts.index, counts.values)\n",
        "# plt.bar(counts.index, counts.values, color='black')\n",
        "\n",
        "# Add numbers on top of the bars\n",
        "for hour, count in counts.items():\n",
        "    plt.annotate(str(count), xy=(hour, count+2), xytext=(0, 10), textcoords='offset points', ha='center', va='bottom', fontsize=12)\n",
        "\n",
        "plt.xlabel('Hour', fontsize=14)\n",
        "plt.ylabel('Number of messages (am)', fontsize=14)\n",
        "plt.title('Number of messages by hour (am)', fontsize=16)\n",
        "\n",
        "# Highlight the top 3 hours with edgecolor\n",
        "for hour in top_3_hours:\n",
        "    plt.bar(hour, counts[hour], edgecolor='black', linewidth=2)\n",
        "\n",
        "# Adjust y limit\n",
        "plt.ylim(0,1500)\n",
        "\n",
        "plt.show()\n",
        "\n",
        "########## Pm ############\n",
        "\n",
        "# Get the counts of messages by hour\n",
        "counts = df[df['Period'] == '오후']['Hour'].value_counts()\n",
        "\n",
        "# Sort the counts by values in descending order\n",
        "counts = counts.sort_values(ascending=False)\n",
        "\n",
        "plt.figure(figsize=(10, 6))\n",
        "\n",
        "# Get the top 3 hours\n",
        "top_3_hours = counts.index[:3]\n",
        "\n",
        "# Create a bar plot of the message counts for the hours from 12:00 to 00:00\n",
        "plt.bar(counts.index, counts.values)\n",
        "\n",
        "plt.xlabel('Hour', fontsize=14)\n",
        "plt.ylabel('Number of messages (pm)', fontsize=14)\n",
        "plt.title('Number of messages by hour (pm)', fontsize=16)\n",
        "\n",
        "# Add numbers on top of the bars\n",
        "for hour, count in counts.items():\n",
        "    plt.annotate(str(count), xy=(hour, count+2), xytext=(0, 10), textcoords='offset points', ha='center', va='bottom', fontsize=12)\n",
        "\n",
        "# Adjust y limit\n",
        "plt.ylim(0,3500)\n",
        "\n",
        "# Highlight the top 3 hours with edgecolor\n",
        "for hour in top_3_hours:\n",
        "    plt.bar(hour, counts[hour], edgecolor='black', linewidth=2)\n",
        "\n",
        "plt.show()"
      ]
    },
    {
      "cell_type": "code",
      "source": [
        "# It appears to have the most conversations between 0 a.m. and 2 a.m. and 11 a.m. and 12 a.m. What a night owls\n",
        "# Let's check the content between 05 and 06 because it stands out that we rarely talked.\n",
        "# The reason why we had a simple conversation is climbing mountain.\n",
        "df[((df['Period'] == '오전') & (df['Hour'] == 5)) | ((df['Period'] == '오전') & (df['Hour'] == 6))].sort_values('Hour')[-4:-2]"
      ],
      "metadata": {
        "colab": {
          "base_uri": "https://localhost:8080/",
          "height": 112
        },
        "id": "pipm8d_542wO",
        "outputId": "ed9ef8dc-2942-49f9-80d8-82aa38b0a64e"
      },
      "execution_count": null,
      "outputs": [
        {
          "output_type": "execute_result",
          "data": {
            "text/plain": [
              "          Name     Time  Text  Hour Period\n",
              "9238  YoungWha  오전 6:09  일어나라     6     오전\n",
              "9237  YoungWha  오전 6:09  등산가자     6     오전"
            ],
            "text/html": [
              "\n",
              "  <div id=\"df-92a2c3a0-86c8-4db8-bcd7-33918917adf1\">\n",
              "    <div class=\"colab-df-container\">\n",
              "      <div>\n",
              "<style scoped>\n",
              "    .dataframe tbody tr th:only-of-type {\n",
              "        vertical-align: middle;\n",
              "    }\n",
              "\n",
              "    .dataframe tbody tr th {\n",
              "        vertical-align: top;\n",
              "    }\n",
              "\n",
              "    .dataframe thead th {\n",
              "        text-align: right;\n",
              "    }\n",
              "</style>\n",
              "<table border=\"1\" class=\"dataframe\">\n",
              "  <thead>\n",
              "    <tr style=\"text-align: right;\">\n",
              "      <th></th>\n",
              "      <th>Name</th>\n",
              "      <th>Time</th>\n",
              "      <th>Text</th>\n",
              "      <th>Hour</th>\n",
              "      <th>Period</th>\n",
              "    </tr>\n",
              "  </thead>\n",
              "  <tbody>\n",
              "    <tr>\n",
              "      <th>9238</th>\n",
              "      <td>YoungWha</td>\n",
              "      <td>오전 6:09</td>\n",
              "      <td>일어나라</td>\n",
              "      <td>6</td>\n",
              "      <td>오전</td>\n",
              "    </tr>\n",
              "    <tr>\n",
              "      <th>9237</th>\n",
              "      <td>YoungWha</td>\n",
              "      <td>오전 6:09</td>\n",
              "      <td>등산가자</td>\n",
              "      <td>6</td>\n",
              "      <td>오전</td>\n",
              "    </tr>\n",
              "  </tbody>\n",
              "</table>\n",
              "</div>\n",
              "      <button class=\"colab-df-convert\" onclick=\"convertToInteractive('df-92a2c3a0-86c8-4db8-bcd7-33918917adf1')\"\n",
              "              title=\"Convert this dataframe to an interactive table.\"\n",
              "              style=\"display:none;\">\n",
              "        \n",
              "  <svg xmlns=\"http://www.w3.org/2000/svg\" height=\"24px\"viewBox=\"0 0 24 24\"\n",
              "       width=\"24px\">\n",
              "    <path d=\"M0 0h24v24H0V0z\" fill=\"none\"/>\n",
              "    <path d=\"M18.56 5.44l.94 2.06.94-2.06 2.06-.94-2.06-.94-.94-2.06-.94 2.06-2.06.94zm-11 1L8.5 8.5l.94-2.06 2.06-.94-2.06-.94L8.5 2.5l-.94 2.06-2.06.94zm10 10l.94 2.06.94-2.06 2.06-.94-2.06-.94-.94-2.06-.94 2.06-2.06.94z\"/><path d=\"M17.41 7.96l-1.37-1.37c-.4-.4-.92-.59-1.43-.59-.52 0-1.04.2-1.43.59L10.3 9.45l-7.72 7.72c-.78.78-.78 2.05 0 2.83L4 21.41c.39.39.9.59 1.41.59.51 0 1.02-.2 1.41-.59l7.78-7.78 2.81-2.81c.8-.78.8-2.07 0-2.86zM5.41 20L4 18.59l7.72-7.72 1.47 1.35L5.41 20z\"/>\n",
              "  </svg>\n",
              "      </button>\n",
              "      \n",
              "  <style>\n",
              "    .colab-df-container {\n",
              "      display:flex;\n",
              "      flex-wrap:wrap;\n",
              "      gap: 12px;\n",
              "    }\n",
              "\n",
              "    .colab-df-convert {\n",
              "      background-color: #E8F0FE;\n",
              "      border: none;\n",
              "      border-radius: 50%;\n",
              "      cursor: pointer;\n",
              "      display: none;\n",
              "      fill: #1967D2;\n",
              "      height: 32px;\n",
              "      padding: 0 0 0 0;\n",
              "      width: 32px;\n",
              "    }\n",
              "\n",
              "    .colab-df-convert:hover {\n",
              "      background-color: #E2EBFA;\n",
              "      box-shadow: 0px 1px 2px rgba(60, 64, 67, 0.3), 0px 1px 3px 1px rgba(60, 64, 67, 0.15);\n",
              "      fill: #174EA6;\n",
              "    }\n",
              "\n",
              "    [theme=dark] .colab-df-convert {\n",
              "      background-color: #3B4455;\n",
              "      fill: #D2E3FC;\n",
              "    }\n",
              "\n",
              "    [theme=dark] .colab-df-convert:hover {\n",
              "      background-color: #434B5C;\n",
              "      box-shadow: 0px 1px 3px 1px rgba(0, 0, 0, 0.15);\n",
              "      filter: drop-shadow(0px 1px 2px rgba(0, 0, 0, 0.3));\n",
              "      fill: #FFFFFF;\n",
              "    }\n",
              "  </style>\n",
              "\n",
              "      <script>\n",
              "        const buttonEl =\n",
              "          document.querySelector('#df-92a2c3a0-86c8-4db8-bcd7-33918917adf1 button.colab-df-convert');\n",
              "        buttonEl.style.display =\n",
              "          google.colab.kernel.accessAllowed ? 'block' : 'none';\n",
              "\n",
              "        async function convertToInteractive(key) {\n",
              "          const element = document.querySelector('#df-92a2c3a0-86c8-4db8-bcd7-33918917adf1');\n",
              "          const dataTable =\n",
              "            await google.colab.kernel.invokeFunction('convertToInteractive',\n",
              "                                                     [key], {});\n",
              "          if (!dataTable) return;\n",
              "\n",
              "          const docLinkHtml = 'Like what you see? Visit the ' +\n",
              "            '<a target=\"_blank\" href=https://colab.research.google.com/notebooks/data_table.ipynb>data table notebook</a>'\n",
              "            + ' to learn more about interactive tables.';\n",
              "          element.innerHTML = '';\n",
              "          dataTable['output_type'] = 'display_data';\n",
              "          await google.colab.output.renderOutput(dataTable, element);\n",
              "          const docLink = document.createElement('div');\n",
              "          docLink.innerHTML = docLinkHtml;\n",
              "          element.appendChild(docLink);\n",
              "        }\n",
              "      </script>\n",
              "    </div>\n",
              "  </div>\n",
              "  "
            ]
          },
          "metadata": {},
          "execution_count": 7
        }
      ]
    },
    {
      "cell_type": "markdown",
      "source": [
        "# Check the keyword"
      ],
      "metadata": {
        "id": "fps_SgvVB8Yv"
      }
    },
    {
      "cell_type": "code",
      "source": [
        "!python -m pip install --upgrade konlpy\n",
        "\n",
        "from konlpy.tag import Kkma\n",
        "from konlpy.utils import pprint\n",
        "from gensim.models import Word2Vec"
      ],
      "metadata": {
        "colab": {
          "base_uri": "https://localhost:8080/"
        },
        "id": "DW4TwmdmCBQO",
        "outputId": "d4f97450-1119-48b6-c90a-5a53ebf55b06"
      },
      "execution_count": null,
      "outputs": [
        {
          "output_type": "stream",
          "name": "stdout",
          "text": [
            "Looking in indexes: https://pypi.org/simple, https://us-python.pkg.dev/colab-wheels/public/simple/\n",
            "Collecting konlpy\n",
            "  Downloading konlpy-0.6.0-py2.py3-none-any.whl (19.4 MB)\n",
            "\u001b[2K     \u001b[90m━━━━━━━━━━━━━━━━━━━━━━━━━━━━━━━━━━━━━━━━\u001b[0m \u001b[32m19.4/19.4 MB\u001b[0m \u001b[31m74.1 MB/s\u001b[0m eta \u001b[36m0:00:00\u001b[0m\n",
            "\u001b[?25hCollecting JPype1>=0.7.0\n",
            "  Downloading JPype1-1.4.1-cp38-cp38-manylinux_2_12_x86_64.manylinux2010_x86_64.whl (465 kB)\n",
            "\u001b[2K     \u001b[90m━━━━━━━━━━━━━━━━━━━━━━━━━━━━━━━━━━━━━━\u001b[0m \u001b[32m465.6/465.6 KB\u001b[0m \u001b[31m22.3 MB/s\u001b[0m eta \u001b[36m0:00:00\u001b[0m\n",
            "\u001b[?25hRequirement already satisfied: numpy>=1.6 in /usr/local/lib/python3.8/dist-packages (from konlpy) (1.21.6)\n",
            "Requirement already satisfied: lxml>=4.1.0 in /usr/local/lib/python3.8/dist-packages (from konlpy) (4.9.2)\n",
            "Requirement already satisfied: packaging in /usr/local/lib/python3.8/dist-packages (from JPype1>=0.7.0->konlpy) (21.3)\n",
            "Requirement already satisfied: pyparsing!=3.0.5,>=2.0.2 in /usr/local/lib/python3.8/dist-packages (from packaging->JPype1>=0.7.0->konlpy) (3.0.9)\n",
            "Installing collected packages: JPype1, konlpy\n",
            "Successfully installed JPype1-1.4.1 konlpy-0.6.0\n"
          ]
        }
      ]
    },
    {
      "cell_type": "code",
      "source": [
        "import random\n",
        "\n",
        "kkma = Kkma()\n",
        "\n",
        "talk_data = list()\n",
        "for i in df['Text']:\n",
        "    talk_data.append(i.split())\n",
        "\n",
        "random.shuffle(talk_data)"
      ],
      "metadata": {
        "id": "b_108U-uCNtI"
      },
      "execution_count": null,
      "outputs": []
    },
    {
      "cell_type": "code",
      "source": [
        "model_talk = Word2Vec(talk_data, size=100, window=5, min_count=3)"
      ],
      "metadata": {
        "id": "33fGYr__ClUW"
      },
      "execution_count": null,
      "outputs": []
    },
    {
      "cell_type": "code",
      "source": [
        "# Related words with '놀자'\n",
        "model_talk.most_similar('놀자')"
      ],
      "metadata": {
        "colab": {
          "base_uri": "https://localhost:8080/"
        },
        "id": "TdsFV3BBSBW4",
        "outputId": "c4a02546-86a8-4155-e486-a72178c492b4"
      },
      "execution_count": null,
      "outputs": [
        {
          "output_type": "stream",
          "name": "stderr",
          "text": [
            "<ipython-input-40-b015e09773a8>:2: DeprecationWarning: Call to deprecated `most_similar` (Method will be removed in 4.0.0, use self.wv.most_similar() instead).\n",
            "  model_talk.most_similar('놀자')\n"
          ]
        },
        {
          "output_type": "execute_result",
          "data": {
            "text/plain": [
              "[('운동하고', 0.44753462076187134),\n",
              " ('쉬어라', 0.44058412313461304),\n",
              " ('버스', 0.4173119068145752),\n",
              " ('이러고', 0.4170822203159332),\n",
              " ('ㅜㅜ', 0.41241931915283203),\n",
              " ('무', 0.40871745347976685),\n",
              " ('소원이랑', 0.40525445342063904),\n",
              " ('등산도', 0.39542996883392334),\n",
              " ('자꾸', 0.3916615843772888),\n",
              " ('집와서', 0.38642579317092896)]"
            ]
          },
          "metadata": {},
          "execution_count": 40
        }
      ]
    },
    {
      "cell_type": "code",
      "source": [
        "# Find most frequent words with nltk\n",
        "import nltk\n",
        "from nltk.tokenize import word_tokenize\n",
        "from nltk.probability import FreqDist\n",
        "nltk.download('punkt')\n",
        "\n",
        "# tokenizing the words\n",
        "text = df['Text'].str.cat(sep=' ')\n",
        "tokens = nltk.word_tokenize(text)\n",
        "\n",
        "# Finding the frequency of the words\n",
        "fdist = FreqDist(tokens)\n",
        "\n",
        "# Print the most common words\n",
        "print(fdist.most_common(10))"
      ],
      "metadata": {
        "colab": {
          "base_uri": "https://localhost:8080/"
        },
        "id": "iCakN4XXXDF_",
        "outputId": "7a1d1002-cafa-4bcd-d1e1-7cdb46247327"
      },
      "execution_count": null,
      "outputs": [
        {
          "output_type": "stream",
          "name": "stderr",
          "text": [
            "[nltk_data] Downloading package punkt to /root/nltk_data...\n",
            "[nltk_data]   Unzipping tokenizers/punkt.zip.\n"
          ]
        },
        {
          "output_type": "stream",
          "name": "stdout",
          "text": [
            "[('?', 1856), ('ㅋ', 797), ('..', 742), ('거', 628), ('아', 603), ('ㅋㅋㅋ', 510), ('근데', 486), ('ㅎㅎ', 463), ('내', 452), ('ㅇㅇ', 428)]\n"
          ]
        }
      ]
    },
    {
      "cell_type": "markdown",
      "source": [
        "# Data preprocess for AI Chat\n",
        "\n",
        "Refer to https://hashdork.com/create-a-deep-learning-chatbot-with-python/"
      ],
      "metadata": {
        "id": "lSw_R-MRlB36"
      }
    },
    {
      "cell_type": "code",
      "source": [
        "# Function, extract patterns and responses with specific keyword.\n",
        "\n",
        "def extract_patterns(df, patterns, tag):# patterns = keywords that I want to extract\n",
        "    new_df = pd.DataFrame()\n",
        "    for pattern in patterns:\n",
        "        matched_msgs = df[df['Text'].str.contains(pattern, flags=re.IGNORECASE, regex=True)]\n",
        "        matched_msgs['tag'] = tag\n",
        "        new_df = pd.concat([new_df, matched_msgs])\n",
        "    return new_df.reset_index(drop=True)\n",
        "\n",
        "def extract_responses(df, patterns, tag):# The next message in the pattern was set as the response.\n",
        "    new_df = pd.DataFrame()\n",
        "    for pattern in patterns:\n",
        "        matched_msgs = df[df['Text'].str.contains(pattern, flags=re.IGNORECASE, regex=True)]\n",
        "        for i in matched_msgs.index:\n",
        "            new_df=new_df.append(df.iloc[i+1])\n",
        "\n",
        "        \n",
        "    new_df['Hour'] = new_df['Hour'].astype(int) # The reason why 'Hour' column's type is changed to float64 is that\n",
        "                                                # I use append method. When it creates a new dataframe the new\n",
        "                                                # dataframe will be the same as the data type of the columns in the\n",
        "                                                # original dataframe.\n",
        "    new_df['tag'] = tag\n",
        "    return new_df.reset_index(drop=True)"
      ],
      "metadata": {
        "id": "BoK1OdKceFei"
      },
      "execution_count": null,
      "outputs": []
    },
    {
      "cell_type": "code",
      "source": [
        "# Daily tag\n",
        "patterns = [r'뭐해', r'뭐함', r'ㅁㅎ', r'일정', r'뭐하셈', r'뭐하노', r'ㅁㅎㄴ']\n",
        "daily_patterns = extract_patterns(df, patterns, '일상_patterns')\n",
        "daily_responses = extract_responses(df, patterns, '일상_responses')\n",
        "\n",
        "print('Patterns : \\n', daily_patterns[:5],'\\n', 'len : ',len(daily_patterns))\n",
        "print('Patterns : \\n', daily_responses[:5],'\\n', 'len : ',len(daily_responses))"
      ],
      "metadata": {
        "colab": {
          "base_uri": "https://localhost:8080/"
        },
        "id": "G7IrQ2X_eTDN",
        "outputId": "a6694be9-5432-437e-dc0a-94059ced2564"
      },
      "execution_count": null,
      "outputs": [
        {
          "output_type": "stream",
          "name": "stderr",
          "text": [
            "<ipython-input-43-a8d9ea6d24d5>:9: SettingWithCopyWarning: \n",
            "A value is trying to be set on a copy of a slice from a DataFrame.\n",
            "Try using .loc[row_indexer,col_indexer] = value instead\n",
            "\n",
            "See the caveats in the documentation: https://pandas.pydata.org/pandas-docs/stable/user_guide/indexing.html#returning-a-view-versus-a-copy\n",
            "  matched_msgs['tag'] = tag\n"
          ]
        },
        {
          "output_type": "stream",
          "name": "stdout",
          "text": [
            "Patterns : \n",
            "        Name      Time             Text  Hour Period          tag\n",
            "0  YoungWha   오후 2:52  니 누나생일 처음에 뭐해줌?     2     오후  일상_patterns\n",
            "1  YoungWha   오후 9:41           난 뭐해줄까     9     오후  일상_patterns\n",
            "2  YoungWha   오전 1:26         등록 뭐해야함?     1     오전  일상_patterns\n",
            "3  YoungWha   오후 1:11          그럼 뭐해..     1     오후  일상_patterns\n",
            "4  YoungWha  오후 12:19          연락와서 뭐함    12     오후  일상_patterns \n",
            " len :  92\n",
            "Patterns : \n",
            "        Name      Time                    Text  Hour Period           tag\n",
            "0    Minsoo   오후 2:56               기억안나노 ㅋㅋㅋ     2     오후  일상_responses\n",
            "1  YoungWha   오후 9:41     그냥 둘이 소고기 한번 사주면 됑?     9     오후  일상_responses\n",
            "2  YoungWha   오전 1:26              주차 ㅇㄷ 하던가?     1     오전  일상_responses\n",
            "3  YoungWha   오후 1:11                       ㅠ     1     오후  일상_responses\n",
            "4  YoungWha  오후 12:19  근데 뭐 이야기하다가 전화해서미안하다하고    12     오후  일상_responses \n",
            " len :  92\n"
          ]
        }
      ]
    },
    {
      "cell_type": "code",
      "source": [
        "# Alcohol tag\n",
        "patterns = [r'술', r'소주', r'맥주', r'양주', r'막걸리', r'소맥', r'쏘맥']\n",
        "drink_patterns = extract_patterns(df, patterns, '술_patterns')\n",
        "drink_responses = extract_responses(df, patterns, '술_responses')\n",
        "\n",
        "print('patterns_len : ',len(drink_patterns))\n",
        "print('responses_len : ',len(drink_responses))"
      ],
      "metadata": {
        "colab": {
          "base_uri": "https://localhost:8080/"
        },
        "id": "8oV36IP-jhZA",
        "outputId": "23b9fcf3-43ee-4335-a47f-ff51aa60ca37"
      },
      "execution_count": null,
      "outputs": [
        {
          "output_type": "stream",
          "name": "stderr",
          "text": [
            "<ipython-input-43-a8d9ea6d24d5>:9: SettingWithCopyWarning: \n",
            "A value is trying to be set on a copy of a slice from a DataFrame.\n",
            "Try using .loc[row_indexer,col_indexer] = value instead\n",
            "\n",
            "See the caveats in the documentation: https://pandas.pydata.org/pandas-docs/stable/user_guide/indexing.html#returning-a-view-versus-a-copy\n",
            "  matched_msgs['tag'] = tag\n"
          ]
        },
        {
          "output_type": "stream",
          "name": "stdout",
          "text": [
            "patterns_len :  380\n",
            "responses_len :  380\n"
          ]
        }
      ]
    },
    {
      "cell_type": "code",
      "source": [
        "# Game tag \n",
        "patterns = [r'게임', r'겜', r'롤', r'스타', r'스타크래프트', r'스타크레프트', r'스타2', r'배그', r'배틀그라운드']\n",
        "game_patterns = extract_patterns(df, patterns, '게임_patterns')\n",
        "game_responses = extract_responses(df, patterns, '게임_responses')\n",
        "\n",
        "print('patterns_len : ',len(game_patterns))\n",
        "print('responses_len : ',len(game_responses))"
      ],
      "metadata": {
        "colab": {
          "base_uri": "https://localhost:8080/"
        },
        "id": "hWMLFc4Qv32O",
        "outputId": "488153dd-2f4f-43f6-bca9-93da1624c4cc"
      },
      "execution_count": null,
      "outputs": [
        {
          "output_type": "stream",
          "name": "stderr",
          "text": [
            "<ipython-input-43-a8d9ea6d24d5>:9: SettingWithCopyWarning: \n",
            "A value is trying to be set on a copy of a slice from a DataFrame.\n",
            "Try using .loc[row_indexer,col_indexer] = value instead\n",
            "\n",
            "See the caveats in the documentation: https://pandas.pydata.org/pandas-docs/stable/user_guide/indexing.html#returning-a-view-versus-a-copy\n",
            "  matched_msgs['tag'] = tag\n"
          ]
        },
        {
          "output_type": "stream",
          "name": "stdout",
          "text": [
            "patterns_len :  454\n",
            "responses_len :  454\n"
          ]
        }
      ]
    },
    {
      "cell_type": "code",
      "source": [
        "# Workout tag\n",
        "patterns = [r'운동', r'헬스', r'야스', r'중량', r'스쿼트', r'벤치', r'데드', r'데드리프트', r'벤치프레스', r'3대', r'맨몸운동', r'등산', r'수영', r'클라이밍']\n",
        "workout_patterns = extract_patterns(df, patterns, '운동_patterns')\n",
        "workout_responses = extract_responses(df, patterns, '운동_responses')\n",
        "\n",
        "print('patterns_len : ',len(workout_patterns))\n",
        "print('responses_len : ',len(workout_responses))"
      ],
      "metadata": {
        "colab": {
          "base_uri": "https://localhost:8080/"
        },
        "id": "ayFrXi4X1t7-",
        "outputId": "e1213bed-efe0-46eb-f2b9-cd1995f70079"
      },
      "execution_count": null,
      "outputs": [
        {
          "output_type": "stream",
          "name": "stderr",
          "text": [
            "<ipython-input-43-a8d9ea6d24d5>:9: SettingWithCopyWarning: \n",
            "A value is trying to be set on a copy of a slice from a DataFrame.\n",
            "Try using .loc[row_indexer,col_indexer] = value instead\n",
            "\n",
            "See the caveats in the documentation: https://pandas.pydata.org/pandas-docs/stable/user_guide/indexing.html#returning-a-view-versus-a-copy\n",
            "  matched_msgs['tag'] = tag\n"
          ]
        },
        {
          "output_type": "stream",
          "name": "stdout",
          "text": [
            "patterns_len :  532\n",
            "responses_len :  532\n"
          ]
        }
      ]
    },
    {
      "cell_type": "markdown",
      "source": [
        "# ChatBot_1\n",
        "\n",
        "Extract patterns which contain specific words.\n",
        "For example, tag 'alcohol' which contains 'soju', 'beer', 'whisky'...\n",
        "The next message in the pattern was set as the response\n",
        "\n",
        "However problem is that there are too many patterns and responses so training model takes too long."
      ],
      "metadata": {
        "id": "bsJJrZykzS2p"
      }
    },
    {
      "cell_type": "code",
      "source": [
        "# Function, make extracted patterns and responses to list.\n",
        "def create_lists(patterns_df, responses_df):\n",
        "    pat_list = list(patterns_df['Text'])\n",
        "    res_list = list(responses_df['Text'])\n",
        "    return pat_list,res_list\n",
        "\n",
        "json_game_pat, json_game_res = create_lists(game_patterns, game_responses)\n",
        "json_workout_pat, json_workout_res = create_lists(workout_patterns, workout_responses)\n",
        "json_drink_pat, json_drink_res = create_lists(drink_patterns, drink_responses)\n",
        "json_daily_pat, json_daily_res = create_lists(daily_patterns, daily_responses)"
      ],
      "metadata": {
        "id": "roKCr7TJ6YUN"
      },
      "execution_count": null,
      "outputs": []
    },
    {
      "cell_type": "code",
      "source": [
        "# Make dictionary for generating json\n",
        "text_data = {\n",
        "    \"intents\":[\n",
        "        {\n",
        "            \"tag\": \"술\",\n",
        "         \"patterns\": json_drink_pat,\n",
        "         \"responses\": json_drink_res\n",
        "        },\n",
        "        {\n",
        "            \"tag\": \"게임\",\n",
        "         \"patterns\": json_game_pat,\n",
        "         \"responses\": json_game_res\n",
        "        },\n",
        "        {\n",
        "            \"tag\": '운동',\n",
        "         \"patterns\": json_workout_pat,\n",
        "         \"responses\": json_workout_res\n",
        "        },\n",
        "        {\n",
        "            \"tag\": '일상',\n",
        "         \"patterns\": json_daily_pat,\n",
        "         \"responses\": json_daily_res\n",
        "        }\n",
        "    ]\n",
        "}"
      ],
      "metadata": {
        "id": "gaxITlqkz0m6"
      },
      "execution_count": null,
      "outputs": []
    },
    {
      "cell_type": "code",
      "source": [
        "# Open json\n",
        "import json\n",
        "\n",
        "with open('intents.json', 'w') as file:\n",
        "    json.dump(text_data, file, indent=4)"
      ],
      "metadata": {
        "id": "v6DXLhvn3Sxk"
      },
      "execution_count": null,
      "outputs": []
    },
    {
      "cell_type": "code",
      "source": [
        "import tensorflow\n",
        "\n",
        "with open('intents.json') as file:\n",
        "    data = json.load(file)"
      ],
      "metadata": {
        "id": "3gYLhwF94Jr-"
      },
      "execution_count": null,
      "outputs": []
    },
    {
      "cell_type": "code",
      "source": [
        "# Make word list using tokenize\n",
        "words = []\n",
        "labels = []\n",
        "docs_x = []\n",
        "docs_y = []\n",
        "\n",
        "for intent in data['intents']:\n",
        "    for pattern in intent['patterns']:\n",
        "        wrds = nltk.word_tokenize(pattern)\n",
        "        words.extend(wrds)\n",
        "        docs_x.append(wrds)\n",
        "        docs_y.append(intent['tag'])\n",
        "\n",
        "    if intent['tag'] not in labels:\n",
        "        labels.append(intent['tag'])"
      ],
      "metadata": {
        "id": "Ly3P1dBP4dTj"
      },
      "execution_count": null,
      "outputs": []
    },
    {
      "cell_type": "code",
      "source": [
        "from nltk.stem.lancaster import LancasterStemmer\n",
        "stemmer = LancasterStemmer()"
      ],
      "metadata": {
        "id": "Yi-ZY5Wo4449"
      },
      "execution_count": null,
      "outputs": []
    },
    {
      "cell_type": "code",
      "source": [
        "# Morphological analysis\n",
        "words = [stemmer.stem(w) for w in words if w != \"?\"] # word collection of all patterns\n",
        "words = sorted(list(set(words)))\n",
        "labels = sorted(labels)"
      ],
      "metadata": {
        "id": "0F8JbvSfBzVD"
      },
      "execution_count": null,
      "outputs": []
    },
    {
      "cell_type": "code",
      "source": [
        "training = []\n",
        "output = []\n",
        "\n",
        "# Make as many tag labels as there are.\n",
        "out_empty = [0 for _ in range(len(labels))]\n",
        "\n",
        "\n",
        "for x, doc in enumerate(docs_x):\n",
        "    bag = []\n",
        "    # Make word to lower case if there is english letter\n",
        "    wrds = [stemmer.stem(w.lower()) for w in doc]\n",
        "\n",
        "    for w in words:\n",
        "        if w in wrds:\n",
        "            bag.append(1)\n",
        "        else:\n",
        "            bag.append(0)\n",
        "\n",
        "    output_row = out_empty[:]\n",
        "    output_row[labels.index(docs_y[x])] = 1\n",
        "\n",
        "    training.append(bag)\n",
        "    output.append(output_row)"
      ],
      "metadata": {
        "id": "fpDKBT2NB0MF"
      },
      "execution_count": null,
      "outputs": []
    },
    {
      "cell_type": "code",
      "source": [
        "def bag_of_words(s,words):\n",
        "    # make [0,0,0, .... ,0] by the length of the pattern(len(words))\n",
        "    bag = [0 for _ in range(len(words))]\n",
        "\n",
        "    s_words = nltk.word_tokenize(s)\n",
        "    s_words = [stemmer.stem(word.lower()) for word in s_words]\n",
        "\n",
        "    # If ['Hello', 'mate', '!'], return 'Hello' corresponding the pattern.\n",
        "    # For example [0,0,0,0,0,1,0,0,0,...,0]\n",
        "    for se in s_words:\n",
        "        for i,w in enumerate(words):\n",
        "            if w == se:\n",
        "                bag[i] =1\n",
        "    return np.array(bag)"
      ],
      "metadata": {
        "id": "zNJvrbFQCQW8"
      },
      "execution_count": null,
      "outputs": []
    },
    {
      "cell_type": "code",
      "source": [
        "training = np.array(training)\n",
        "output = np.array(output)"
      ],
      "metadata": {
        "id": "E5Eu80LAC_qw"
      },
      "execution_count": null,
      "outputs": []
    },
    {
      "cell_type": "code",
      "source": [
        "!pip install tflearn\n",
        "import tflearn"
      ],
      "metadata": {
        "id": "wmVdWaMEDe_k",
        "colab": {
          "base_uri": "https://localhost:8080/"
        },
        "outputId": "2868ca5e-fa8c-4339-a67d-cfb38e14c967"
      },
      "execution_count": null,
      "outputs": [
        {
          "output_type": "stream",
          "name": "stdout",
          "text": [
            "Looking in indexes: https://pypi.org/simple, https://us-python.pkg.dev/colab-wheels/public/simple/\n",
            "Collecting tflearn\n",
            "  Downloading tflearn-0.5.0.tar.gz (107 kB)\n",
            "\u001b[2K     \u001b[90m━━━━━━━━━━━━━━━━━━━━━━━━━━━━━━━━━━━━━━━\u001b[0m \u001b[32m107.3/107.3 KB\u001b[0m \u001b[31m7.5 MB/s\u001b[0m eta \u001b[36m0:00:00\u001b[0m\n",
            "\u001b[?25h  Preparing metadata (setup.py) ... \u001b[?25l\u001b[?25hdone\n",
            "Requirement already satisfied: numpy in /usr/local/lib/python3.8/dist-packages (from tflearn) (1.21.6)\n",
            "Requirement already satisfied: six in /usr/local/lib/python3.8/dist-packages (from tflearn) (1.15.0)\n",
            "Requirement already satisfied: Pillow in /usr/local/lib/python3.8/dist-packages (from tflearn) (7.1.2)\n",
            "Building wheels for collected packages: tflearn\n",
            "  Building wheel for tflearn (setup.py) ... \u001b[?25l\u001b[?25hdone\n",
            "  Created wheel for tflearn: filename=tflearn-0.5.0-py3-none-any.whl size=127299 sha256=6439b74997766722e3f91fe6c99feedd5a13728e7874e223d15b6646c79c75f4\n",
            "  Stored in directory: /root/.cache/pip/wheels/65/9b/15/cb1e6b279c14ed897530d15cfd7da8e3df8a947e593f5cfe59\n",
            "Successfully built tflearn\n",
            "Installing collected packages: tflearn\n",
            "Successfully installed tflearn-0.5.0\n"
          ]
        },
        {
          "output_type": "stream",
          "name": "stderr",
          "text": [
            "WARNING:tensorflow:From /usr/local/lib/python3.8/dist-packages/tensorflow/python/compat/v2_compat.py:107: disable_resource_variables (from tensorflow.python.ops.variable_scope) is deprecated and will be removed in a future version.\n",
            "Instructions for updating:\n",
            "non-resource variables are not supported in the long term\n"
          ]
        }
      ]
    },
    {
      "cell_type": "code",
      "source": [
        "tensorflow.compat.v1.reset_default_graph()\n",
        "\n",
        "net = tflearn.input_data(shape=[None, len(training[0])]) # len(training[[0]]) 로드할 model과 설정한 model 배열 체크하기\n",
        "net = tflearn.fully_connected(net, 8)\n",
        "net = tflearn.fully_connected(net, 8)\n",
        "net = tflearn.fully_connected(net, len(output[0]), activation = 'softmax') # len(output[0]) aswell\n",
        "net = tflearn.regression(net)\n",
        "\n",
        "model = tflearn.DNN(net)"
      ],
      "metadata": {
        "id": "9WZzs0lPpDSh",
        "colab": {
          "base_uri": "https://localhost:8080/"
        },
        "outputId": "e5f17a0b-6cce-4a44-f49b-6d75f0081bd2"
      },
      "execution_count": null,
      "outputs": [
        {
          "output_type": "stream",
          "name": "stderr",
          "text": [
            "WARNING:tensorflow:From /usr/local/lib/python3.8/dist-packages/tflearn/initializations.py:164: calling TruncatedNormal.__init__ (from tensorflow.python.ops.init_ops) with dtype is deprecated and will be removed in a future version.\n",
            "Instructions for updating:\n",
            "Call initializer instance with the dtype argument instead of passing it to the constructor\n"
          ]
        }
      ]
    },
    {
      "cell_type": "code",
      "source": [
        "# model.fit(training, output, n_epoch=1500, batch_size = 8, show_metric=True)\n",
        "# model.save(\"model.tflearn\")\n",
        "\n",
        "''' The result\n",
        "\n",
        "Training Step: 344999  | total loss: 0.05232 | time: 1.386s\n",
        "| Adam | epoch: 1500 | loss: 0.05232 - acc: 0.9549 -- iter: 1832/1837\n",
        "Training Step: 345000  | total loss: 0.06027 | time: 1.392s\n",
        "| Adam | epoch: 1500 | loss: 0.06027 - acc: 0.9469 -- iter: 1837/1837\n",
        "--\n",
        "'''\n",
        "# it takes 4 hours... need to change something"
      ],
      "metadata": {
        "id": "qNK6bNnxD0YY"
      },
      "execution_count": null,
      "outputs": []
    },
    {
      "cell_type": "code",
      "source": [
        "# def chat():\n",
        "#     print(\"Start talking with your bot (type quit to stop)!\")\n",
        "#     while True:\n",
        "#         inp = input(\"You: \")\n",
        "#         if inp.lower() == \"quit\":\n",
        "#             break\n",
        "\n",
        "#         # Show predictions of what tag is most likely\n",
        "#         results = model.predict([bag_of_words(inp, words)])\n",
        "\n",
        "#         # Pick the highest probability of predictions\n",
        "#         results_index = np.argmax(results)\n",
        "\n",
        "#         # Designate tag\n",
        "#         tag = labels[results_index]\n",
        "\n",
        "#         for tg in data[\"intents\"]:\n",
        "#             if tg[\"tag\"] == tag:\n",
        "#                 responses = tg['responses']\n",
        "\n",
        "#         print(random.choice(responses))\n",
        "\n",
        "# chat()"
      ],
      "metadata": {
        "id": "iRO3XdPgAGM0"
      },
      "execution_count": null,
      "outputs": []
    },
    {
      "cell_type": "markdown",
      "source": [
        "# ChatBot_2\n",
        "\n",
        "Extract patterns which have question mark \"?\" in end of text containing specific words. The next message in the pattern was set as the response like before.\n",
        "\n",
        "The result, the amount of messeges is clearly smaller than before model so it takes lower time."
      ],
      "metadata": {
        "id": "-1N8WWHwHz35"
      }
    },
    {
      "cell_type": "code",
      "source": [
        "def extract_test_pat(df_text, patterns):\n",
        "    new_list = list([i for i in df_text if any(word in i for word in patterns) and i[-1] == '?'])\n",
        "    return new_list\n",
        "\n",
        "def extract_test_res(df_text, patterns):\n",
        "    new_list = list()\n",
        "    for i,x in enumerate(df['Text']):\n",
        "        if any(word in x for word in patterns) and x[-1] == '?':\n",
        "            new_list.append(df['Text'][i+1])\n",
        "    return new_list"
      ],
      "metadata": {
        "id": "C9doSz8fH8Ba"
      },
      "execution_count": null,
      "outputs": []
    },
    {
      "cell_type": "code",
      "source": [
        "target = df['Text']\n",
        "\n",
        "tag_drink = [r'술', r'소주', r'맥주', r'양주', r'막걸리', r'소맥', r'쏘맥', r'고량주', r'꼬량주']\n",
        "drink_pat_test = extract_test_pat(target, tag_drink)\n",
        "drink_res_test = extract_test_res(target, tag_drink)\n",
        "\n",
        "tag_daily = [r'뭐해', r'뭐함', r'ㅁㅎ', r'일정', r'뭐하셈', r'뭐하노', r'ㅁㅎㄴ']\n",
        "daily_pat_test = extract_test_pat(target, tag_daily)\n",
        "daily_res_test = extract_test_res(target, tag_daily)\n",
        "\n",
        "tag_workout = [r'운동', r'헬스', r'야스', r'중량', r'스쿼트', r'벤치', r'데드', r'데드리프트', r'벤치프레스', r'3대', r'맨몸운동', r'등산', r'수영', r'클라이밍']\n",
        "workout_pat_test = extract_test_pat(target, tag_workout)\n",
        "workout_res_test = extract_test_res(target, tag_workout)\n",
        "\n",
        "tag_game = [r'게임', r'겜', r'롤', r'스타', r'스타크래프트', r'스타크레프트', r'스타2', r'배그', r'배틀그라운드']\n",
        "game_pat_test = extract_test_pat(target, tag_game)\n",
        "game_res_test = extract_test_res(target, tag_game)"
      ],
      "metadata": {
        "id": "E1Jeaih4MHU7"
      },
      "execution_count": null,
      "outputs": []
    },
    {
      "cell_type": "code",
      "source": [
        "text_data_test = {\n",
        "    \"intents\":[\n",
        "        {\n",
        "            \"tag\": \"술\",\n",
        "         \"patterns\": drink_pat_test,\n",
        "         \"responses\": drink_res_test\n",
        "        },\n",
        "        {\n",
        "            \"tag\": \"게임\",\n",
        "         \"patterns\": game_pat_test,\n",
        "         \"responses\": game_res_test\n",
        "        },\n",
        "        {\n",
        "            \"tag\": '운동',\n",
        "         \"patterns\": workout_pat_test,\n",
        "         \"responses\": workout_res_test\n",
        "        },\n",
        "        {\n",
        "            \"tag\": '일상',\n",
        "         \"patterns\": daily_pat_test,\n",
        "         \"responses\": daily_res_test\n",
        "        }\n",
        "    ]\n",
        "}"
      ],
      "metadata": {
        "id": "95P5tLkyTdH7"
      },
      "execution_count": null,
      "outputs": []
    },
    {
      "cell_type": "code",
      "source": [
        "with open('intents.json', 'w') as file:\n",
        "    json.dump(text_data_test, file, indent=4)"
      ],
      "metadata": {
        "id": "tXalVuLOWa7V"
      },
      "execution_count": null,
      "outputs": []
    },
    {
      "cell_type": "code",
      "source": [
        "with open('intents.json') as file:\n",
        "    data = json.load(file)"
      ],
      "metadata": {
        "id": "QbULdRH1WcBf"
      },
      "execution_count": null,
      "outputs": []
    },
    {
      "cell_type": "code",
      "source": [
        "words = []\n",
        "labels = []\n",
        "docs_x = []\n",
        "docs_y = []\n",
        "\n",
        "for intent in data['intents']:\n",
        "    for pattern in intent['patterns']:\n",
        "        wrds = nltk.word_tokenize(pattern)\n",
        "        words.extend(wrds)\n",
        "        docs_x.append(wrds)\n",
        "        docs_y.append(intent['tag'])\n",
        "\n",
        "    if intent['tag'] not in labels:\n",
        "        labels.append(intent['tag'])"
      ],
      "metadata": {
        "id": "nIy2kRHkWqiu"
      },
      "execution_count": null,
      "outputs": []
    },
    {
      "cell_type": "code",
      "source": [
        "stemmer = LancasterStemmer()\n",
        "words = [stemmer.stem(w) for w in words if w != \"?\"]\n",
        "words = sorted(list(set(words)))\n",
        "labels = sorted(labels)"
      ],
      "metadata": {
        "id": "wZQwL1zUWznF"
      },
      "execution_count": null,
      "outputs": []
    },
    {
      "cell_type": "code",
      "source": [
        "training = []\n",
        "output = []\n",
        "\n",
        "out_empty = [0 for _ in range(len(labels))]\n",
        "\n",
        "for x, doc in enumerate(docs_x):\n",
        "    bag = []\n",
        "    wrds = [stemmer.stem(w.lower()) for w in doc]\n",
        "\n",
        "    for w in words:\n",
        "        if w in wrds:\n",
        "            bag.append(1)\n",
        "        else:\n",
        "            bag.append(0)\n",
        "\n",
        "    output_row = out_empty[:]\n",
        "    output_row[labels.index(docs_y[x])] = 1\n",
        "\n",
        "    training.append(bag)\n",
        "    output.append(output_row)"
      ],
      "metadata": {
        "id": "RltzIJDgW12M"
      },
      "execution_count": null,
      "outputs": []
    },
    {
      "cell_type": "code",
      "source": [
        "training = np.array(training)\n",
        "output = np.array(output)"
      ],
      "metadata": {
        "id": "XwWC-pYqW63W"
      },
      "execution_count": null,
      "outputs": []
    },
    {
      "cell_type": "code",
      "source": [
        "tensorflow.compat.v1.reset_default_graph()\n",
        "\n",
        "net = tflearn.input_data(shape=[None, len(training[0])]) # len(training[[0]]) Check the model to load and its array\n",
        "net = tflearn.fully_connected(net, 8)\n",
        "net = tflearn.fully_connected(net, 8)\n",
        "net = tflearn.fully_connected(net, len(output[0]), activation = 'softmax') # len(output[0]) as well\n",
        "net = tflearn.regression(net)\n",
        "\n",
        "model = tflearn.DNN(net)\n",
        "# The 'tflearn.DNN()' function automatically sets up the optimizer and loss function\n",
        "# So it is not necessary to compile the model manually."
      ],
      "metadata": {
        "id": "pHqnVxgEXCxl"
      },
      "execution_count": null,
      "outputs": []
    },
    {
      "cell_type": "code",
      "source": [
        "# model.fit(training, output, n_epoch=1500, batch_size = 8, show_metric=True)\n",
        "# model.save(\"model2.tflearn\")\n",
        "\n",
        "\"\"\"\n",
        "Training Step: 25499  | total loss: 0.02332 | time: 0.066s\n",
        "| Adam | epoch: 1500 | loss: 0.02332 - acc: 0.9959 -- iter: 128/136\n",
        "Training Step: 25500  | total loss: 0.03338 | time: 0.070s\n",
        "| Adam | epoch: 1500 | loss: 0.03338 - acc: 0.9838 -- iter: 136/136\n",
        "\"\"\"\n",
        "load_path = '/content/drive/My Drive/git/Messege_Analysis/'\n",
        "model.load(load_path + \"model2.tflearn\")"
      ],
      "metadata": {
        "id": "CDF1OMJAXLr9"
      },
      "execution_count": null,
      "outputs": []
    },
    {
      "cell_type": "code",
      "source": [
        "def chat():\n",
        "    print(\"Start talking with your bot (type quit to stop)!\")\n",
        "    while True:\n",
        "        inp = input(\"You: \")\n",
        "        if inp.lower() == \"quit\":\n",
        "            break\n",
        "\n",
        "        results = model.predict([bag_of_words(inp, words)])\n",
        "        results_index = np.argmax(results)\n",
        "        tag = labels[results_index]\n",
        "        #print(tag)\n",
        "\n",
        "        for tg in data[\"intents\"]:\n",
        "            if tg[\"tag\"] == tag:\n",
        "                responses = tg['responses']\n",
        "\n",
        "        print(random.choice(responses))\n",
        "\n",
        "chat()\n",
        "\n",
        "# We usually have a useless conversation (like he say 'hey what are you doing?' I reply \" :) haha \" for disturbing each other...)\n",
        "# sometimes look so weird conversation... haha"
      ],
      "metadata": {
        "colab": {
          "base_uri": "https://localhost:8080/"
        },
        "id": "9dGxfabmczLx",
        "outputId": "4668aea0-c83b-451c-cfe8-8e8b165a2849"
      },
      "execution_count": null,
      "outputs": [
        {
          "name": "stdout",
          "output_type": "stream",
          "text": [
            "Start talking with your bot (type quit to stop)!\n",
            "You: 술 한잔 ㄱㄱ?\n",
            "전에 바나나꿀막걸리 이런거 어떻노\n",
            "You: 오 괜찮노 ㅋㅋ 맥주는?\n",
            "노오옵\n",
            "You: 음 그럼 게임이나 한판 하자\n",
            "사진\n",
            "You: ? 게임이나 하자고\n",
            "ㅜ\n",
            "You: 왜 ㅡㅡ 안할거임?\n",
            "ㅋㅋㅋㅋㅋ\n",
            "You: 안할거냐고!\n",
            "노오옵\n",
            "You: quit\n"
          ]
        }
      ]
    },
    {
      "cell_type": "markdown",
      "source": [
        "# Extra Analysis\n",
        "Sometimes insight comes out from a wild ideas"
      ],
      "metadata": {
        "id": "CQ7q9LKQUH5R"
      }
    },
    {
      "cell_type": "code",
      "source": [
        "# We usually type 'ㅋ' whenever. So let's check how average we type 'ㅋ'\n",
        "target_y = df['Text'][(df['Text'].str.contains('ㅋ', flags=re.IGNORECASE, regex=True)) & (df['Name']=='YoungWha')]\n",
        "target_m = df['Text'][(df['Text'].str.contains('ㅋ', flags=re.IGNORECASE, regex=True)) & (df['Name']=='Minsoo')]\n",
        "print(\"Minsoo's average of the number of 'ㅋ'   :\", target_m.str.count(\"ㅋ\").mean(), \"\\nYoungWha's average of the number of 'ㅋ' :\", target_y.str.count(\"ㅋ\").mean())"
      ],
      "metadata": {
        "colab": {
          "base_uri": "https://localhost:8080/"
        },
        "id": "e7-bMzbf7XVP",
        "outputId": "52657ebf-8858-4b67-b9be-252464d9f788"
      },
      "execution_count": null,
      "outputs": [
        {
          "output_type": "stream",
          "name": "stdout",
          "text": [
            "Minsoo's average of the number of 'ㅋ'   : 3.50627195183141 \n",
            "YoungWha's average of the number of 'ㅋ' : 3.9467455621301775\n"
          ]
        }
      ]
    },
    {
      "cell_type": "code",
      "source": [
        "# Guess who's text\n",
        "# def guess_who\n",
        "\n",
        "from sklearn.feature_extraction.text import TfidfVectorizer\n",
        "#from sklearn.linear_model import LogisticRegression\n",
        "#from sklearn.ensemble import RandomForestClassifier\n",
        "from xgboost import XGBClassifier\n",
        "from sklearn.model_selection import train_test_split\n",
        "from sklearn.metrics import accuracy_score\n",
        "import time\n",
        "\n",
        "# How long does it take\n",
        "start = time.time()\n",
        "\n",
        "# Create feature matrix and target vector\n",
        "vectorizer = TfidfVectorizer()\n",
        "X = vectorizer.fit_transform(df[\"Text\"])\n",
        "y = df[\"Name\"]\n",
        "\n",
        "# Split data into training and test sets\n",
        "X_train, X_test, y_train, y_test = train_test_split(X, y, test_size=0.3, random_state=42)\n",
        "\n",
        "# Train logistic regression model\n",
        "clf = XGBClassifier(n_estimators=300, learning_rate=0.2, max_depth=4)\n",
        "clf.fit(X_train, y_train)\n",
        "\n",
        "# Predict on test set\n",
        "y_pred = clf.predict(X_test)\n",
        "\n",
        "# Accuracy and time\n",
        "accuracy = accuracy_score(y_test, y_pred)\n",
        "print(\"Accuracy:\", accuracy)\n",
        "n = time.time()-start\n",
        "print(\"Processing time :\",\"%.3f\" % n)"
      ],
      "metadata": {
        "colab": {
          "base_uri": "https://localhost:8080/"
        },
        "id": "WAnwuhA3_RLE",
        "outputId": "eb04b127-22ef-478e-b29c-16560b91b409"
      },
      "execution_count": null,
      "outputs": [
        {
          "output_type": "stream",
          "name": "stdout",
          "text": [
            "Accuracy: 0.6745126884884148\n",
            "Processing time : 10.499\n"
          ]
        }
      ]
    },
    {
      "cell_type": "code",
      "source": [
        "def guess_who():\n",
        "    print('Type \"quit\" if you want to quit')\n",
        "    while True:\n",
        "        inp = input('Input Text :')\n",
        "        if inp.lower() == 'quit':\n",
        "            break\n",
        "        \n",
        "        inp_vector = vectorizer.transform([inp]) # Transform text into feature matrix\n",
        "        name = clf.predict(inp_vector)[0] # Predict name\n",
        "        print('Expected person :',name)\n",
        "\n",
        "guess_who()"
      ],
      "metadata": {
        "id": "bJd5XpRhE06C",
        "colab": {
          "base_uri": "https://localhost:8080/"
        },
        "outputId": "28200486-1560-4ae6-bfa3-8cf346fa811c"
      },
      "execution_count": null,
      "outputs": [
        {
          "name": "stdout",
          "output_type": "stream",
          "text": [
            "Type \"quit\" if you want to quit\n",
            "Input Text :카페 ㄱㄱ?\n",
            "Expected person : Minsoo\n",
            "Input Text :뭐함\n",
            "Expected person : YoungWha\n",
            "Input Text :공부하자\n",
            "Expected person : YoungWha\n",
            "Input Text :점심 먹고나서\n",
            "Expected person : Minsoo\n",
            "Input Text :ㅋㅋ\n",
            "Expected person : Minsoo\n",
            "Input Text :quit\n"
          ]
        }
      ]
    },
    {
      "cell_type": "markdown",
      "source": [
        "Above chat models are just one-dimension. To have much complex conversation, I should study rule-based systems or more advanced techniques like seq2seq."
      ],
      "metadata": {
        "id": "xLgZc2T-WufL"
      }
    }
  ]
}
